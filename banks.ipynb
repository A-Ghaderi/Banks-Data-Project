{
 "cells": [
  {
   "cell_type": "code",
   "execution_count": null,
   "metadata": {},
   "outputs": [],
   "source": [
    "## Import libraries ##\n",
    "import pandas as pd\n",
    "import numpy as np\n",
    "import datetime\n",
    "%matplotlib inline\n",
    "\n",
    "import matplotlib.pyplot as plt\n",
    "import seaborn as sns\n",
    "sns.set_style('whitegrid')\n",
    "%matplotlib inline\n",
    "\n",
    "# Optional Plotly Method Imports\n",
    "import cufflinks as cf\n",
    "cf.go_offline()\n",
    "\n",
    "## Read the data ##\n",
    "df = pd.read_pickle('all_banks')\n",
    "df.head()"
   ]
  },
  {
   "cell_type": "code",
   "execution_count": null,
   "metadata": {},
   "outputs": [],
   "source": [
    "## Creating a list of the ticker symbols (as strings) in alphabetical order ##\n",
    "tickers = ['BAC', 'C', 'GS', 'JPM', 'MS', 'WFC']\n",
    "\n",
    "## Concatenating the bank dataframes together to a single data frame called bank_stocks ##\n",
    "bank_stocks = pd.concat([df['BAC'], df['C'], df['GS'], df['JPM'], df['MS'], df['WFC']],axis=1,keys=tickers)\n",
    "bank_stocks.columns.names = ['Bank Ticker','Stock Info']\n",
    "bank_stocks.head()"
   ]
  },
  {
   "cell_type": "code",
   "execution_count": null,
   "metadata": {},
   "outputs": [],
   "source": [
    "## The max Close price for each bank's stock throughout the time period ##\n",
    "bank_stocks.xs(key='Close',axis=1,level='Stock Info').max()\n",
    "\n",
    "## Creating a new empty DataFrame called returns. This dataframe will contain the returns for each bank's stock ##\n",
    "returns = pd.DataFrame()\n",
    "for tick in tickers:\n",
    "    returns[tick+' Return'] = bank_stocks[tick]['Close'].pct_change()\n",
    "returns.head()"
   ]
  },
  {
   "cell_type": "code",
   "execution_count": null,
   "metadata": {},
   "outputs": [],
   "source": [
    "## A pairplot using seaborn of the returns dataframe ##\n",
    "import seaborn as sns\n",
    "sns.pairplot(returns[1:])\n",
    "\n",
    "## On what dates each bank stock had the best and worst single day returns ##\n",
    "returns.idxmin()\n",
    "returns.idxmax()\n",
    "\n",
    "## The standard deviation of the returns, which shows the riskiest over the entire time period ##\n",
    "returns.std()\n",
    "returns.ix['2015-01-01':'2015-12-31'].std()\n",
    "\n",
    "## Distplot using seaborn of the 2015 returns for Morgan Stanley ##\n",
    "sns.distplot(returns.ix['2015-01-01':'2015-12-31']['MS Return'],color='green',bins=100)"
   ]
  },
  {
   "cell_type": "code",
   "execution_count": null,
   "metadata": {},
   "outputs": [],
   "source": [
    "## Showing Close price for each bank for the entire index of time ##\n",
    "\n",
    "for tick in tickers:\n",
    "    bank_stocks[tick]['Close'].plot(figsize=(12,4),label=tick)\n",
    "plt.legend()\n",
    "\n",
    "bank_stocks.xs(key='Close',axis=1,level='Stock Info').plot()"
   ]
  },
  {
   "cell_type": "code",
   "execution_count": null,
   "metadata": {},
   "outputs": [],
   "source": [
    "## The rolling 30 day average against the Close Price for Bank Of America's stock for the year 2008 ##\n",
    "plt.figure(figsize=(12,6))\n",
    "BAC['Close'].ix['2008-01-01':'2009-01-01'].rolling(window=30).mean().plot(label='30 Day Avg')\n",
    "BAC['Close'].ix['2008-01-01':'2009-01-01'].plot(label='BAC CLOSE')\n",
    "plt.legend()\n",
    "\n",
    "## The correlation between the stocks Close Price ##\n",
    "sns.heatmap(bank_stocks.xs(key='Close',axis=1,level='Stock Info').corr(),annot=True)\n",
    "\n",
    "sns.clustermap(bank_stocks.xs(key='Close',axis=1,level='Stock Info').corr(),annot=True)"
   ]
  }
 ],
 "metadata": {
  "kernelspec": {
   "display_name": "Python 3",
   "language": "python",
   "name": "python3"
  },
  "language_info": {
   "codemirror_mode": {
    "name": "ipython",
    "version": 3
   },
   "file_extension": ".py",
   "mimetype": "text/x-python",
   "name": "python",
   "nbconvert_exporter": "python",
   "pygments_lexer": "ipython3",
   "version": "3.7.4"
  }
 },
 "nbformat": 4,
 "nbformat_minor": 2
}
